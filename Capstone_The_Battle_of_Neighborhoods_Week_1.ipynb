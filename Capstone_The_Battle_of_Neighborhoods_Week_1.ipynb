{
 "cells": [
  {
   "cell_type": "markdown",
   "metadata": {},
   "source": [
    "# A. Introduction"
   ]
  },
  {
   "cell_type": "markdown",
   "metadata": {},
   "source": [
    "### A.1.Description & Discussion of the Background"
   ]
  },
  {
   "cell_type": "markdown",
   "metadata": {},
   "source": [
    "The primary issue that is affecting the world nowadays is COVID-19. No country has been left untouched. \n",
    "It is a deadly infectious disease that the world has never witnessed before. It is responsible for the \n",
    "loss of many lives and left the affected countries in both deep physical and economic depression. "
   ]
  },
  {
   "cell_type": "markdown",
   "metadata": {},
   "source": [
    "This all started in December 2019 in Wuhan, China. Since then it has spread globally at an alarming rate.\n",
    "As a result, the World Health Organization declared the COVID‑19 outbreak as a pandemic on March 11, 2020.\n",
    "As of May 19, 2020, more than 4.8 million cases have been reported across 188 countries and territories,\n",
    "resulting in more than 315k deaths. It is an infectious disease caused by severe acute respiratory \n",
    "syndrome coronavirus 2 (SARS-CoV-2). People who are affected by this virus experience \n",
    "fever, cough, fatigue, shortness of breath, and loss of smell and taste. \n",
    "There is no vaccine yet, which means the only method of prevention is through self-quarantine."
   ]
  },
  {
   "cell_type": "markdown",
   "metadata": {},
   "source": [
    "Considering the distressful situation that the world is in, I believe that selecting COVID-19 as my topic makes the most sense. So it's my mere effort to \n",
    "analyze the cumulative data of confirmed cases, deaths, and recovered cases over time. My main focus is \n",
    "to analyze the spread trend of this virus all over the world with the right visualizations and also to \n",
    "cluster the countries affected accordingly."
   ]
  },
  {
   "cell_type": "markdown",
   "metadata": {},
   "source": [
    "We need to build the courage and act in harmony and peace to fight against this situation, \n",
    "hoping to see the world smile again overcoming the fear of death."
   ]
  },
  {
   "cell_type": "markdown",
   "metadata": {},
   "source": [
    "### A.2. Data Description"
   ]
  },
  {
   "cell_type": "markdown",
   "metadata": {},
   "source": [
    "In consideration of the COVID 19 problem I have found Open data  available through reliable\n",
    "sources:"
   ]
  },
  {
   "cell_type": "markdown",
   "metadata": {},
   "source": [
    "I  have found  Time-series  COVID-19 Data Repository by the Center for Systems Science and \n",
    "Engineering (CSSE) at Johns Hopkins University, the repository has several datasets, among \n",
    "those I will be using dataset featuring the confirmed cases, no of deaths, and active cases\n",
    "by countries, I will be downloading, preprocessing the data, and creating a World map \n",
    "featuring the COVID-19 stats by countries."
   ]
  },
  {
   "cell_type": "markdown",
   "metadata": {},
   "source": [
    "I will also be analyzing the USA country separately, I  have found a Time series dataset \n",
    "which also comes from a public dataset by NYT, located in the GitHub, this dataset provides\n",
    "information on COVID-19 cases per US counties. I will be creating maps to display the stats\n",
    "by counties."
   ]
  },
  {
   "cell_type": "markdown",
   "metadata": {},
   "source": [
    "I will be using the Foursquare API's to analyze single county to see the most affected \n",
    "venues by this pandemic."
   ]
  },
  {
   "cell_type": "markdown",
   "metadata": {},
   "source": [
    "I will be creating visualization maps featuring the effects of COVID19."
   ]
  }
 ],
 "metadata": {
  "kernelspec": {
   "display_name": "Python",
   "language": "python",
   "name": "conda-env-python-py"
  },
  "language_info": {
   "codemirror_mode": {
    "name": "ipython",
    "version": 3
   },
   "file_extension": ".py",
   "mimetype": "text/x-python",
   "name": "python",
   "nbconvert_exporter": "python",
   "pygments_lexer": "ipython3",
   "version": "3.6.10"
  }
 },
 "nbformat": 4,
 "nbformat_minor": 4
}
